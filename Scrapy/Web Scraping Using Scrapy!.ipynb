{
 "cells": [
  {
   "cell_type": "markdown",
   "id": "amazing-aquarium",
   "metadata": {},
   "source": [
    "# Web Scraping by `Mr. Harshit Dawar!`"
   ]
  },
  {
   "cell_type": "code",
   "execution_count": 1,
   "id": "textile-heading",
   "metadata": {},
   "outputs": [],
   "source": [
    "import scrapy"
   ]
  },
  {
   "cell_type": "code",
   "execution_count": 2,
   "id": "romance-product",
   "metadata": {},
   "outputs": [],
   "source": [
    "class Web_Scraping_Spider(scrapy.Spider):\n",
    "    name = \"Books\"\n",
    "    start_urls = [\n",
    "        \"http://books.toscrape.com\",\n",
    "        \"http://books.toscrape.com/catalogue/category/books/science_22/index.html\",\n",
    "    ]\n",
    "    \n",
    "    def parse(self, response):\n",
    "        page = response.url.split(\"/\")[-2]\n",
    "        filename = \"books-%s.html\" % page\n",
    "        with open(filename, \"wb\") as f:\n",
    "            f.write(response.body)"
   ]
  },
  {
   "cell_type": "code",
   "execution_count": null,
   "id": "successful-armenia",
   "metadata": {},
   "outputs": [],
   "source": []
  }
 ],
 "metadata": {
  "kernelspec": {
   "display_name": "Python 3",
   "language": "python",
   "name": "python3"
  },
  "language_info": {
   "codemirror_mode": {
    "name": "ipython",
    "version": 3
   },
   "file_extension": ".py",
   "mimetype": "text/x-python",
   "name": "python",
   "nbconvert_exporter": "python",
   "pygments_lexer": "ipython3",
   "version": "3.7.9"
  }
 },
 "nbformat": 4,
 "nbformat_minor": 5
}
